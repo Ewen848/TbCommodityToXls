{
 "cells": [
  {
   "cell_type": "code",
   "execution_count": 17,
   "metadata": {},
   "outputs": [],
   "source": [
    "from selenium import webdriver\n",
    "from selenium.webdriver.common.by import By\n",
    "from selenium.webdriver.support.ui import WebDriverWait\n",
    "from selenium.webdriver.support import expected_conditions as EC\n",
    "from selenium.common.exceptions import NoSuchElementException  # 导入NoSuchElementException\n",
    "import xlrd\n",
    "import xlwt\n",
    "from decimal import Decimal\n",
    "\n",
    "\n",
    "# 获取商品详情页数据\n",
    "# 参数select_switch为选择导出功能的开关\n",
    "# 由于只有待收货状态的商品才支持选择，为方便统计已收获商品，故设置此功能开关\n",
    "# select_switch为False时导出当前页所有商品"
   ]
  },
  {
   "cell_type": "code",
   "execution_count": 34,
   "metadata": {
    "pycharm": {
     "name": "#%%\n"
    }
   },
   "outputs": [],
   "source": [
    "def get_order_data(driver, select_switch=True):\n",
    "    tittle = []\n",
    "    item = []\n",
    "    price = []\n",
    "    amount = []\n",
    "    link = []\n",
    "    totle_price = 0\n",
    "    cacl_price = 0\n",
    "\n",
    "    for i in range(4, 18 + 1):\n",
    "        for j in range(1, 50):\n",
    "            try:\n",
    "                is_selected = driver.find_element_by_xpath(\n",
    "                    f'//*[@id=\"tp-bought-root\"]/div[{i}]/div/table/tbody[1]/tr/td[1]/label/span[1]/input').is_selected()\n",
    "                if is_selected or (not select_switch):\n",
    "                    # 获取标题和链接\n",
    "                    tittle_link = driver.find_element_by_xpath(\n",
    "                        f'//*[@id=\"tp-bought-root\"]/div[{i}]/div/table/tbody[2]/tr[{j}]/td[1]/div/div[2]/p[1]/a[1]')\n",
    "                    tittle.append(tittle_link.get_attribute('text'))\n",
    "                    link.append(tittle_link.get_attribute('href'))\n",
    "                    # 获取总价\n",
    "                    try:\n",
    "                        totle_price = float(driver.find_element_by_xpath(\n",
    "                            f'//*[@id=\"tp-bought-root\"]/div[{i}]/div/table/tbody[2]/tr[1]/td[5]/div/div[1]/p/strong/span[2]').text)\n",
    "                    except NoSuchElementException:\n",
    "                        totle_price = 0\n",
    "                    # 获取单价\n",
    "                    try:\n",
    "                        price.append(float(driver.find_element_by_xpath(\n",
    "                            f'//*[@id=\"tp-bought-root\"]/div[{i}]/div/table/tbody[2]/tr[{j}]/td[2]/div/p/span[2]').text))\n",
    "                        cacl_price += float(driver.find_element_by_xpath(\n",
    "                            f'//*[@id=\"tp-bought-root\"]/div[{i}]/div/table/tbody[2]/tr[{j}]/td[2]/div/p/span[2]').text)\n",
    "                    except NoSuchElementException:\n",
    "                        price.append(0)\n",
    "                        cacl_price += 0\n",
    "                    # 获取数量\n",
    "                    try:\n",
    "                        amount.append(float(driver.find_element_by_xpath(\n",
    "                            f'//*[@id=\"tp-bought-root\"]/div[{i}]/div/table/tbody[2]/tr[{j}]/td[3]/div/p').text))\n",
    "                    except NoSuchElementException:\n",
    "                        amount.append(0)\n",
    "                    # 获取商品详情\n",
    "                    try:\n",
    "                        item.append(driver.find_element_by_xpath(\n",
    "                            f'//*[@id=\"tp-bought-root\"]/div[{i}]/div/table/tbody[2]/tr[{j}]/td[1]/div/div[2]/p[2]/span/span[3]').text)\n",
    "                    except NoSuchElementException:\n",
    "                        item.append(\"\")\n",
    "            except NoSuchElementException:\n",
    "                bias_price = totle_price - cacl_price\n",
    "                if bias_price > 0:\n",
    "                    tittle.append(\"运费+税费\")\n",
    "                    link.append(\"\")\n",
    "                    price.append(bias_price)\n",
    "                    amount.append(\"\")\n",
    "                    item.append(\"\")\n",
    "                elif bias_price < 0:\n",
    "                    tittle.append(\"优惠\")\n",
    "                    link.append(\"\")\n",
    "                    price.append(bias_price)\n",
    "                    amount.append(\"\")\n",
    "                    item.append(\"\")                   \n",
    "                totle_price = 0\n",
    "                cacl_price = 0\n",
    "                break\n",
    "    return tittle, item, price, amount, link"
   ]
  },
  {
   "cell_type": "code",
   "execution_count": 33,
   "metadata": {
    "pycharm": {
     "name": "#%%\n"
    }
   },
   "outputs": [],
   "source": [
    "# 获取购物车数据\n",
    "def get_cart_data(driver):\n",
    "    title = []\n",
    "    item = []\n",
    "    price = []\n",
    "    amount = []\n",
    "    link = []\n",
    "    for i in range(1, 30):\n",
    "        for j in range(1, 50):\n",
    "            tianmao = f\"/html/body/div[1]/div[2]/div[2]/div/div[2]/div[2]/div[{i}]/div/div[2]/div/div/div[2]/div/div[{j}]/div/ul/\"  # 天猫店铺索引方式\n",
    "            taobao = f'/html/body/div[1]/div[2]/div[2]/div/div[2]/div[2]/div[{i}]/div/div[2]/div/div/div[{j}]/div/ul/'  # 淘宝店铺索引方式\n",
    "            try:\n",
    "                # 判断是否选中\n",
    "                try:\n",
    "                    is_selected = driver.find_element_by_xpath(tianmao + f'li[1]/div/div/div/input').is_selected()\n",
    "                except NoSuchElementException:\n",
    "                    is_selected = driver.find_element_by_xpath(taobao + f'li[1]/div/div/div/input').is_selected()\n",
    "                if is_selected:\n",
    "                    # 获取标题和链接\n",
    "                    try:\n",
    "                        title_link = driver.find_element_by_xpath(tianmao + f'li[2]/div/div[2]/div[1]/a')\n",
    "                    except NoSuchElementException:\n",
    "                        title_link = driver.find_element_by_xpath(\n",
    "                            taobao + f'li[2]/div/div[2]/div[1]/a')  # 若天猫索引方式报错，尝试淘宝索引方式\n",
    "                    title.append(title_link.get_attribute('text'))  # 获取商品标题\n",
    "                    link.append(title_link.get_attribute('href'))  # 获取商品链接\n",
    "                    # 获取单价\n",
    "                    try:\n",
    "                        try:\n",
    "                            price.append(driver.find_element_by_xpath(tianmao + f'li[4]/div/div/div/div/em').text)\n",
    "                        except NoSuchElementException:\n",
    "                            price.append(driver.find_element_by_xpath(\n",
    "                                taobao + f'li[4]/div/div/div/div/em').text)  # 若天猫索引方式报错，尝试淘宝索引方式\n",
    "                    except NoSuchElementException:\n",
    "                        price.append(\"\")  # 两种方式尝试均报错，说明没有此元素，留空\n",
    "                    # 获取详情\n",
    "                    try:\n",
    "                        try:\n",
    "                            item.append(driver.find_element_by_xpath(tianmao + f'li[3]/div/p').text)\n",
    "                        except NoSuchElementException:\n",
    "                            item.append(driver.find_element_by_xpath(taobao + f'li[3]/div/p').text)\n",
    "                    except NoSuchElementException:\n",
    "                        item.append(\"\")\n",
    "                    # 获取数量\n",
    "                    try:\n",
    "                        try:\n",
    "                            amount.append(\n",
    "                                driver.find_element_by_xpath(tianmao + f'li[5]/div/div/div[1]/input').get_attribute(\n",
    "                                    \"value\"))\n",
    "                        except NoSuchElementException:\n",
    "                            amount.append(\n",
    "                                driver.find_element_by_xpath(taobao + f'li[5]/div/div/div[1]/input').get_attribute(\n",
    "                                    \"value\"))\n",
    "                    except NoSuchElementException:\n",
    "                        amount.append(\"\")\n",
    "\n",
    "            except NoSuchElementException:\n",
    "                break\n",
    "    return title, item, price, amount, link"
   ]
  },
  {
   "cell_type": "code",
   "execution_count": 24,
   "metadata": {
    "pycharm": {
     "name": "#%%\n"
    }
   },
   "outputs": [],
   "source": [
    "# 创建工作表\n",
    "def craet_workbook(type, path=\"data.xls\"):\n",
    "    workbook = xlwt.Workbook()\n",
    "    sheet = workbook.add_sheet(\"Sheet1\")\n",
    "    if type == '1':\n",
    "        sheet.write(0, 0, \"商品名\")\n",
    "        sheet.write(0, 1, \"商品详情\")\n",
    "        sheet.write(0, 2, \"单价\")\n",
    "        sheet.write(0, 3, \"数量\")\n",
    "        sheet.write(0, 4, \"链接\")\n",
    "    else:\n",
    "        sheet.write(0, 0, \"商品名\")\n",
    "        sheet.write(0, 1, \"商品详情\")\n",
    "        sheet.write(0, 2, \"单价\")\n",
    "        sheet.write(0, 3, \"数量\")\n",
    "        sheet.write(0, 4, \"链接\")\n",
    "    workbook.save(path)\n",
    "    return workbook"
   ]
  },
  {
   "cell_type": "code",
   "execution_count": 35,
   "metadata": {
    "pycharm": {
     "name": "#%%\n"
    }
   },
   "outputs": [
    {
     "name": "stdout",
     "output_type": "stream",
     "text": [
      "选择需要抓取数据的页面(1:购物车 2:商品详情):2\n"
     ]
    },
    {
     "name": "stderr",
     "output_type": "stream",
     "text": [
      "<ipython-input-35-b2340bce4079>:10: DeprecationWarning: use options instead of chrome_options\n",
      "  driver = webdriver.Chrome(\"./chromedriver.exe\", chrome_options=chrome_options)\n"
     ]
    },
    {
     "name": "stdout",
     "output_type": "stream",
     "text": [
      "登录完成？(y/n)y\n",
      "注意：商品详情页仅支持未收货产品选择导出，若要导出已收货产品，请将选择开关关闭，进行全局页面导出\n",
      "打开选择开关？(y/n)y\n",
      "请选择需要导出的商品，选择完成？(y/n)y\n",
      "过滤0元订单？(y/n)y\n",
      "正在导出，请稍后......\n",
      "导出完毕\n"
     ]
    }
   ],
   "source": [
    "if __name__ == \"__main__\":\n",
    "\n",
    "    select = ''\n",
    "    switch = ''\n",
    "    login = ''\n",
    "    filter = ''\n",
    "    type = input(\"选择需要抓取数据的页面(1:购物车 2:商品详情):\")\n",
    "    chrome_options = webdriver.ChromeOptions()\n",
    "    chrome_options.add_experimental_option('excludeSwitches', ['enable-logging'])  # 禁止打印日志\n",
    "    driver = webdriver.Chrome(\"./chromedriver.exe\", chrome_options=chrome_options)\n",
    "    if type == '1':\n",
    "        driver.get('https://cart.taobao.com/cart.htm')\n",
    "    else:\n",
    "        driver.get('https://buyertrade.taobao.com/trade/itemlist/list_bought_items.htm')\n",
    "    workbook = craet_workbook(type)  # 创建工作表\n",
    "    sheet = workbook.get_sheet(\"Sheet1\")\n",
    "\n",
    "    while login != \"y\":\n",
    "        login = input(\"登录完成？(y/n)\")\n",
    "\n",
    "    if type == '2':\n",
    "        print(\"注意：商品详情页仅支持未收货产品选择导出，若要导出已收货产品，请将选择开关关闭，进行全局页面导出\")\n",
    "        switch = input(\"打开选择开关？(y/n)\")\n",
    "        if switch == \"y\":\n",
    "            switch = 1\n",
    "        else:\n",
    "            switch = 0\n",
    "\n",
    "    while select != \"y\":\n",
    "        select = input(\"请选择需要导出的商品，选择完成？(y/n)\")\n",
    "    count = 1\n",
    "    filter = input(\"过滤0元订单？(y/n)\")\n",
    "    print(\"正在导出，请稍后......\")\n",
    "    if type == \"1\":\n",
    "        title, item, price, amount, link = get_cart_data(driver)\n",
    "        for i in range(len(title)):\n",
    "            if filter == 'y':\n",
    "                if price[i] == \"0.00\":\n",
    "                    continue\n",
    "            sheet.write(count, 0, title[i])\n",
    "            sheet.write(count, 1, item[i])\n",
    "            sheet.write(count, 2, price[i])\n",
    "            sheet.write(count, 3, amount[i])\n",
    "            sheet.write(count, 4, link[i])\n",
    "            count += 1\n",
    "    else:\n",
    "        title, item, price, amount, link = get_order_data(driver, bool(int(switch)))\n",
    "        for i in range(len(title)):\n",
    "            if filter == 'y':\n",
    "                if price[i] == \"0.00\":\n",
    "                    continue\n",
    "            sheet.write(count, 0, title[i])\n",
    "            sheet.write(count, 1, item[i])\n",
    "            sheet.write(count, 2, price[i])\n",
    "            sheet.write(count, 3, amount[i])\n",
    "            sheet.write(count, 4, link[i])\n",
    "            count += 1\n",
    "    workbook.save(\"data.xls\")\n",
    "    print(\"导出完毕\")\n",
    "\n",
    "\n",
    "\n",
    "\n"
   ]
  },
  {
   "cell_type": "code",
   "execution_count": null,
   "metadata": {
    "pycharm": {
     "name": "#%%\n"
    }
   },
   "outputs": [],
   "source": []
  }
 ],
 "metadata": {
  "kernelspec": {
   "display_name": "Python 3",
   "language": "python",
   "name": "python3"
  },
  "language_info": {
   "codemirror_mode": {
    "name": "ipython",
    "version": 3
   },
   "file_extension": ".py",
   "mimetype": "text/x-python",
   "name": "python",
   "nbconvert_exporter": "python",
   "pygments_lexer": "ipython3",
   "version": "3.8.3"
  }
 },
 "nbformat": 4,
 "nbformat_minor": 1
}